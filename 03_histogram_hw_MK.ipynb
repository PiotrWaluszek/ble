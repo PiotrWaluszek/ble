{
  "cells": [
    {
      "cell_type": "markdown",
      "metadata": {
        "collapsed": false,
        "id": "4Fbe36eKPM0s"
      },
      "source": [
        "## Zadanie domowe: BBHE i DSIHE\n",
        "\n",
        "W klasycznym wyrównywaniu histogramu HE  po wykonaniu operacji jasność obrazu ulega zmianie.\n",
        "Dało się to zaobserwować podczas przeprowadzonych eksperymentów.\n",
        "Jeśli nie to należy uruchomić skrypt z sekcji A i zwrócić na to uwagę.\n",
        "Średnia jasność dąży do środkowego poziomu szarości.\n",
        "Jest to wada i dlatego klasyczne HE ma ograniczone zastosowanie.\n",
        "\n",
        "Powstało sporo metod, które eliminują to niekorzystne zjawisko.\n",
        "Najprostsze z nich polegają na dekompozycji obrazu wejściowego na dwa podobrazy (wg. pewnego kryterium).\n",
        "Następnie operacja HE wykonywana jest dla tych podobrazów.\n",
        "\n",
        "Dwie znane z literatury metody to:\n",
        "- Bi-Histogram Equalization\n",
        "- DSIHE - Dualistic Sub-Image Histogram Equalization\n",
        "\n",
        "W metodzie BBHE za kryterium podziału przyjmuje się średnią jasność w obrazie.\n",
        "W DSIHE obraz dzieli się na dwa podobrazy o takiej samej liczbie pikseli (jaśniejszych i ciemniejszych).\n",
        "\n",
        "W ramach zadania należy zaimplementować wybraną metodę: BBHE lub DSIHE (ew. obie).\n",
        "\n",
        "1. Wczytaj obraz *jet.bmp* i wylicz jego histogram.\n",
        "2. W kolejnym kroku należy wyznaczyć próg podziału obrazu na dwa podobrazy (*lm*).\n",
        "3. Dla BBHE wyznacz średnią jasność obrazu. Dla DSIHE można wykorzystać histogram skumulowany.\n",
        "Należy znaleźć poziom jasności który znajduje się \"w połowie\" histogramu skumulowanego.\n",
        "W tym celu warto stworzyć tablicę, zawierającą moduł histogramu skumulowanego pomniejszonego o połowę liczby pikseli.\n",
        "Następnie znaleźć minimum - `np.argmin`.\n",
        "4. Dalej należy podzielić histogram oryginalnego obrazu na dwa histogramy *H1* i *H2*.\n",
        "Dla każdego z nich wyliczyć histogram skumulowany ($C_1$ i $C_2$) i wykonać normalizację.\n",
        "Normalizacja polega na podzieleniu każdego histogramu przez jego największy element.\n",
        "5. Na podstawie histogramów skumulowanych należy stworzyć przekształcenie LUT.\n",
        "Należy tak przeskalować $C_1$ i $C_2$, aby uzyskać jednorodne przekształcenie.\n",
        "Tablicę $C_1$ wystarczy pomnożyć przez próg podziału.\n",
        "Tablicę $C_2$ należy przeskalować do przedziału: $<lm+1; 255>$, gdzie $lm$ jest progiem podziału.<br>\n",
        "$C_{1n} = (lm)*C1;$<br>\n",
        "$C_{2n} = lm+1 + (255-lm-1)*C2;$<br>\n",
        "Następnie dwie części tablicy przekodowań należy połączyć.\n",
        "6. Na koniec należy wykonać operację LUT i wyświetlić wynik wyrównywania histogramu.\n",
        "Porównaj wynik operacji BBHE lub DSIHE z klasycznym HE."
      ]
    },
    {
      "cell_type": "code",
      "execution_count": null,
      "metadata": {
        "id": "c2Q0bFkqPM0v",
        "pycharm": {
          "name": "#%% Zadanie domowe - BBHE\n"
        }
      },
      "outputs": [],
      "source": [
        "import cv2\n",
        "import os\n",
        "import requests\n",
        "from matplotlib import pyplot as plt\n",
        "import numpy as np\n",
        "\n",
        "url = 'https://raw.githubusercontent.com/vision-agh/poc_sw/master/03_Histogram/'\n",
        "\n",
        "fileName = 'jet.bmp'\n",
        "if not os.path.exists(fileName):\n",
        "    r = requests.get(url + fileName, allow_redirects=True)\n",
        "    open(fileName, 'wb').write(r.content)\n",
        "\n",
        "jet = cv2.imread(fileName, cv2.IMREAD_GRAYSCALE)\n",
        "jet_hist = cv2.calcHist([jet], [0], None, [256], [0, 256])"
      ]
    },
    {
      "cell_type": "code",
      "execution_count": null,
      "metadata": {
        "id": "KPTV1fMpPM0y",
        "pycharm": {
          "name": "#%% Zadanie domowe - DSIHE\n"
        }
      },
      "outputs": [],
      "source": [
        "# bbhe\n",
        "lm_bbhe = int(np.mean(jet))\n",
        "\n",
        "H1_bbhe = jet_hist[:lm_bbhe + 1]\n",
        "H2_bbhe = jet_hist[lm_bbhe + 1:]\n",
        "\n",
        "C1_bbhe = np.cumsum(H1_bbhe) / np.max(np.cumsum(H1_bbhe))\n",
        "C2_bbhe = np.cumsum(H2_bbhe) / np.max(np.cumsum(H2_bbhe))\n",
        "\n",
        "LUT_bbhe = np.zeros(256)\n",
        "LUT_bbhe[:lm_bbhe + 1] = lm_bbhe * C1_bbhe\n",
        "LUT_bbhe[lm_bbhe + 1:] = lm_bbhe + 1 + (255 - lm_bbhe - 1) * C2_bbhe\n",
        "\n",
        "jet_bbhe = cv2.LUT(jet, LUT_bbhe.astype('uint8'))"
      ]
    },
    {
      "cell_type": "code",
      "source": [
        "# dsihe\n",
        "hist_cumsum = np.cumsum(jet_hist)\n",
        "half_pixels = hist_cumsum[-1] // 2\n",
        "\n",
        "lm_dsihe = np.argmin(np.abs(hist_cumsum - half_pixels))\n",
        "\n",
        "H1_dsihe = jet_hist[:lm_dsihe + 1]\n",
        "H2_dsihe = jet_hist[lm_dsihe + 1:]\n",
        "\n",
        "C1_dsihe = np.cumsum(H1_dsihe) / np.max(np.cumsum(H1_dsihe))\n",
        "C2_dsihe = np.cumsum(H2_dsihe) / np.max(np.cumsum(H2_dsihe))\n",
        "\n",
        "LUT_dsihe = np.zeros(256)\n",
        "LUT_dsihe[:lm_dsihe + 1] = lm_dsihe * C1_dsihe\n",
        "LUT_dsihe[lm_dsihe + 1:] = lm_dsihe + 1 + (255 - lm_dsihe - 1) * C2_dsihe\n",
        "\n",
        "jet_dsihe = cv2.LUT(jet, LUT_dsihe.astype('uint8'))"
      ],
      "metadata": {
        "id": "O7TdQpHdGv8K"
      },
      "execution_count": null,
      "outputs": []
    },
    {
      "cell_type": "code",
      "source": [
        "# Porównanie wyników\n",
        "fig, axs = plt.subplots(2, 2, figsize=(15, 10))\n",
        "\n",
        "axs[0, 0].imshow(jet, cmap='gray')\n",
        "axs[0, 0].set_title('Oryginalny obraz')\n",
        "axs[0, 0].axis('off')\n",
        "\n",
        "axs[0, 1].imshow(jet_bbhe, cmap='gray')\n",
        "axs[0, 1].set_title('BBHE')\n",
        "axs[0, 1].axis('off')\n",
        "\n",
        "axs[1, 0].imshow(jet_dsihe, cmap='gray')\n",
        "axs[1, 0].set_title('DSIHE')\n",
        "axs[1, 0].axis('off')\n",
        "\n",
        "jet_he = cv2.equalizeHist(jet)\n",
        "axs[1, 1].imshow(jet_he, cmap='gray')\n",
        "axs[1, 1].set_title('HE')\n",
        "axs[1, 1].axis('off')\n",
        "\n",
        "plt.tight_layout()\n",
        "plt.show()"
      ],
      "metadata": {
        "id": "qLpUVLZ1G8lL"
      },
      "execution_count": null,
      "outputs": []
    }
  ],
  "metadata": {
    "colab": {
      "provenance": []
    },
    "kernelspec": {
      "display_name": "Python 3",
      "language": "python",
      "name": "python3"
    },
    "language_info": {
      "codemirror_mode": {
        "name": "ipython",
        "version": 2
      },
      "file_extension": ".py",
      "mimetype": "text/x-python",
      "name": "python",
      "nbconvert_exporter": "python",
      "pygments_lexer": "ipython2",
      "version": "2.7.6"
    }
  },
  "nbformat": 4,
  "nbformat_minor": 0
}